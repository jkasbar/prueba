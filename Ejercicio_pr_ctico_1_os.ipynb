{
  "nbformat": 4,
  "nbformat_minor": 0,
  "metadata": {
    "colab": {
      "provenance": [],
      "include_colab_link": true
    },
    "kernelspec": {
      "name": "python3",
      "display_name": "Python 3"
    },
    "language_info": {
      "name": "python"
    }
  },
  "cells": [
    {
      "cell_type": "markdown",
      "metadata": {
        "id": "view-in-github",
        "colab_type": "text"
      },
      "source": [
        "<a href=\"https://colab.research.google.com/github/jkasbar/prueba/blob/main/Ejercicio_pr_ctico_1_os.ipynb\" target=\"_parent\"><img src=\"https://colab.research.google.com/assets/colab-badge.svg\" alt=\"Open In Colab\"/></a>"
      ]
    },
    {
      "cell_type": "markdown",
      "source": [
        "1. Crea 2 variables, `a` y `b`, y asignales los valores 5 y 7 respectivamente\n"
      ],
      "metadata": {
        "id": "g9eqyBtJm1Fu"
      }
    },
    {
      "cell_type": "code",
      "source": [
        "a = 5\n",
        "b = 7"
      ],
      "metadata": {
        "id": "osd4Dq8Djx9b"
      },
      "execution_count": 21,
      "outputs": []
    },
    {
      "cell_type": "markdown",
      "source": [],
      "metadata": {
        "id": "6QIkGWUGjw9y"
      }
    },
    {
      "cell_type": "markdown",
      "source": [
        "2. Guarda la suma de `a` y `b` en la variable `c`"
      ],
      "metadata": {
        "id": "BW8HWMt1vmt-"
      }
    },
    {
      "cell_type": "code",
      "source": [
        "c = a + b\n",
        "print(c)\n"
      ],
      "metadata": {
        "colab": {
          "base_uri": "https://localhost:8080/"
        },
        "id": "_QBzYUsmkD7H",
        "outputId": "375fd6ef-1c93-446e-87e9-f8e450528565"
      },
      "execution_count": 22,
      "outputs": [
        {
          "output_type": "stream",
          "name": "stdout",
          "text": [
            "12\n"
          ]
        }
      ]
    },
    {
      "cell_type": "markdown",
      "source": [
        "3. Actualiza el valor de variable `c` sumandole 2 a sí misma"
      ],
      "metadata": {
        "id": "6_gmouJmzbpG"
      }
    },
    {
      "cell_type": "code",
      "source": [
        "c=c+2\n",
        "print(c)"
      ],
      "metadata": {
        "colab": {
          "base_uri": "https://localhost:8080/"
        },
        "id": "GeLo7M8QkYBU",
        "outputId": "c59db9c2-351d-4e57-b8ff-8b405ec3fdb0"
      },
      "execution_count": 23,
      "outputs": [
        {
          "output_type": "stream",
          "name": "stdout",
          "text": [
            "14\n"
          ]
        }
      ]
    },
    {
      "cell_type": "markdown",
      "source": [
        "4. Imprime en pantalla el valor de c"
      ],
      "metadata": {
        "id": "1rOBpTRbzouF"
      }
    },
    {
      "cell_type": "markdown",
      "source": [
        "5. Imprime en pantalla la siguiente frase:\n",
        "\n",
        "\"El valor de c es _\"\n",
        "\n",
        "Adaptarlo para que muestre el valor de la variable."
      ],
      "metadata": {
        "id": "VAM9UoDB0Dae"
      }
    },
    {
      "cell_type": "code",
      "source": [
        "print(f\"El valor de c es {c}\")"
      ],
      "metadata": {
        "colab": {
          "base_uri": "https://localhost:8080/"
        },
        "id": "GrDoLYO7kmZQ",
        "outputId": "75f07b65-6d9e-4b33-df6a-3ee4ced4ac5d"
      },
      "execution_count": 24,
      "outputs": [
        {
          "output_type": "stream",
          "name": "stdout",
          "text": [
            "El valor de c es 14\n"
          ]
        }
      ]
    },
    {
      "cell_type": "markdown",
      "source": [
        "7. Como podemos saber cuál es el tipo de datos de c?"
      ],
      "metadata": {
        "id": "ewJvonq83zV_"
      }
    },
    {
      "cell_type": "code",
      "source": [
        "print(type(c))"
      ],
      "metadata": {
        "colab": {
          "base_uri": "https://localhost:8080/"
        },
        "id": "4WD4IJMFkwuj",
        "outputId": "f4371062-75f5-49ed-c1da-58904d838cc1"
      },
      "execution_count": 25,
      "outputs": [
        {
          "output_type": "stream",
          "name": "stdout",
          "text": [
            "<class 'int'>\n"
          ]
        }
      ]
    },
    {
      "cell_type": "markdown",
      "source": [
        "8. Multiplica `c` por 1.0. Gurada el resultado en `d`"
      ],
      "metadata": {
        "id": "4XuqWLSU4839"
      }
    },
    {
      "cell_type": "code",
      "source": [
        "d = c * 1.0\n",
        "print(d)"
      ],
      "metadata": {
        "colab": {
          "base_uri": "https://localhost:8080/"
        },
        "id": "PWYzPWC4lFJO",
        "outputId": "299c8c08-2049-409b-d77c-58df546b3f88"
      },
      "execution_count": 26,
      "outputs": [
        {
          "output_type": "stream",
          "name": "stdout",
          "text": [
            "14.0\n"
          ]
        }
      ]
    },
    {
      "cell_type": "code",
      "source": [],
      "metadata": {
        "id": "fRMvzMk9lE7o"
      },
      "execution_count": 26,
      "outputs": []
    },
    {
      "cell_type": "code",
      "source": [],
      "metadata": {
        "id": "3O1aX3TvlE4P"
      },
      "execution_count": 26,
      "outputs": []
    },
    {
      "cell_type": "markdown",
      "source": [
        "9. Qué clase o tipo de dato almacena la variable `d`?"
      ],
      "metadata": {
        "id": "lc65lFOeU6_f"
      }
    },
    {
      "cell_type": "code",
      "source": [
        "print(type(d))"
      ],
      "metadata": {
        "colab": {
          "base_uri": "https://localhost:8080/"
        },
        "id": "Bf9Ma2L-lWaV",
        "outputId": "7433a244-436c-48f2-e50b-28bf4974cf6e"
      },
      "execution_count": 27,
      "outputs": [
        {
          "output_type": "stream",
          "name": "stdout",
          "text": [
            "<class 'float'>\n"
          ]
        }
      ]
    },
    {
      "cell_type": "markdown",
      "source": [
        "10. A la luz del tipo de datos vistos en `c` y `d`, podemos decir que ambas variables son iguales? Escribe una expresión booleana que los iguale"
      ],
      "metadata": {
        "id": "yBjFrkdyVREY"
      }
    },
    {
      "cell_type": "code",
      "source": [
        "print (d==c)"
      ],
      "metadata": {
        "colab": {
          "base_uri": "https://localhost:8080/"
        },
        "id": "xcqytWgdltfC",
        "outputId": "956fdf14-a8cc-473c-9772-7ea01aa21dc9"
      },
      "execution_count": 28,
      "outputs": [
        {
          "output_type": "stream",
          "name": "stdout",
          "text": [
            "True\n"
          ]
        }
      ]
    },
    {
      "cell_type": "markdown",
      "source": [
        "11. Guarda en una lista las variables `a`, `b`, `c` y `d`. Llama a la variable que la almacena *lista*"
      ],
      "metadata": {
        "id": "jifYF08OVqMI"
      }
    },
    {
      "cell_type": "code",
      "source": [
        "lista = [a,b,c,d]\n",
        "print(lista)"
      ],
      "metadata": {
        "colab": {
          "base_uri": "https://localhost:8080/"
        },
        "id": "HIn93xk7mAej",
        "outputId": "0dea975a-4f92-4030-83a4-8d170da59027"
      },
      "execution_count": 29,
      "outputs": [
        {
          "output_type": "stream",
          "name": "stdout",
          "text": [
            "[5, 7, 14, 14.0]\n"
          ]
        }
      ]
    },
    {
      "cell_type": "markdown",
      "source": [
        "12. Guarda en una tupla las variables `a`, `b`, `c` y `d`. Llama a la variable que la almacena *tupla*"
      ],
      "metadata": {
        "id": "O6mGrUHuWiHn"
      }
    },
    {
      "cell_type": "code",
      "source": [
        "tupla = (a,b,c,d)\n",
        "print(tupla)"
      ],
      "metadata": {
        "colab": {
          "base_uri": "https://localhost:8080/"
        },
        "id": "uxKaHqLqmIFC",
        "outputId": "6dbc76f3-8a8b-4881-c0de-fb3416a7460f"
      },
      "execution_count": 30,
      "outputs": [
        {
          "output_type": "stream",
          "name": "stdout",
          "text": [
            "(5, 7, 14, 14.0)\n"
          ]
        }
      ]
    },
    {
      "cell_type": "markdown",
      "source": [
        "13. Guarda en un diccionario las variables `a`, `b`, `c` y `d`. Las claves o *keys* serán 'a', 'b', 'c' y 'd' y los valores las propias variables.  Llama a la variable que lo almacena *diccionario*"
      ],
      "metadata": {
        "id": "Jj2GFotrWW8N"
      }
    },
    {
      "cell_type": "code",
      "source": [
        "diccionario = {'a':a,'b':b,'c':c,'d':d}\n",
        "print(diccionario)"
      ],
      "metadata": {
        "colab": {
          "base_uri": "https://localhost:8080/"
        },
        "id": "MbeAZQPXmUXa",
        "outputId": "896af290-8eee-432e-fa22-ef0479d49781"
      },
      "execution_count": 31,
      "outputs": [
        {
          "output_type": "stream",
          "name": "stdout",
          "text": [
            "{'a': 5, 'b': 7, 'c': 14, 'd': 14.0}\n"
          ]
        }
      ]
    },
    {
      "cell_type": "markdown",
      "source": [
        "14. Muestra el primer elemento de *lista*"
      ],
      "metadata": {
        "id": "tnBsjW-mbUM_"
      }
    },
    {
      "cell_type": "code",
      "source": [
        "print (lista[0])"
      ],
      "metadata": {
        "colab": {
          "base_uri": "https://localhost:8080/"
        },
        "id": "ozda5VaZmal4",
        "outputId": "a836db7a-394a-4c30-d0cf-d1d550c3a7ec"
      },
      "execution_count": 32,
      "outputs": [
        {
          "output_type": "stream",
          "name": "stdout",
          "text": [
            "5\n"
          ]
        }
      ]
    },
    {
      "cell_type": "markdown",
      "source": [
        "15. Muestra el último elemento de *tupla*"
      ],
      "metadata": {
        "id": "0x-36zvlbjOI"
      }
    },
    {
      "cell_type": "code",
      "source": [
        "print(tupla[-1])"
      ],
      "metadata": {
        "colab": {
          "base_uri": "https://localhost:8080/"
        },
        "id": "1oMgRjAdmnZj",
        "outputId": "3766c387-27d6-4dae-dd56-ba3f342df771"
      },
      "execution_count": 33,
      "outputs": [
        {
          "output_type": "stream",
          "name": "stdout",
          "text": [
            "14.0\n"
          ]
        }
      ]
    },
    {
      "cell_type": "markdown",
      "source": [
        "16. Convierte *tupla* en una lista. Guarda el resultado en *lista_2*"
      ],
      "metadata": {
        "id": "vfRnvkznc5_P"
      }
    },
    {
      "cell_type": "code",
      "source": [
        "lista_2 = list(tupla)\n",
        "print(lista_2)"
      ],
      "metadata": {
        "colab": {
          "base_uri": "https://localhost:8080/"
        },
        "id": "bksK7WLqmtng",
        "outputId": "8f388f38-492e-4b9f-f253-a31e71f679e2"
      },
      "execution_count": 34,
      "outputs": [
        {
          "output_type": "stream",
          "name": "stdout",
          "text": [
            "[5, 7, 14, 14.0]\n"
          ]
        }
      ]
    },
    {
      "cell_type": "markdown",
      "source": [
        "17. Añade un nuevo elemento a *lista_2*, el número 8 por ejemplo"
      ],
      "metadata": {
        "id": "17F1ACqveVdI"
      }
    },
    {
      "cell_type": "code",
      "source": [
        "lista_2.append(8)\n",
        "print(lista_2)"
      ],
      "metadata": {
        "colab": {
          "base_uri": "https://localhost:8080/"
        },
        "id": "HmP11jkPnDCd",
        "outputId": "7bc451da-5382-4391-919c-b736cbf0eded"
      },
      "execution_count": 35,
      "outputs": [
        {
          "output_type": "stream",
          "name": "stdout",
          "text": [
            "[5, 7, 14, 14.0, 8]\n"
          ]
        }
      ]
    },
    {
      "cell_type": "markdown",
      "source": [
        "18. Muestra la longitud o número de elementos de *lista_2*"
      ],
      "metadata": {
        "id": "IWBvVtfAeqJo"
      }
    },
    {
      "cell_type": "code",
      "source": [
        "lista_2 = list(tupla)\n",
        "print(len(lista_2))"
      ],
      "metadata": {
        "colab": {
          "base_uri": "https://localhost:8080/"
        },
        "id": "5c1sqoeEoJh3",
        "outputId": "8d54d927-d02c-451c-8527-38a77a487a25"
      },
      "execution_count": 36,
      "outputs": [
        {
          "output_type": "stream",
          "name": "stdout",
          "text": [
            "4\n"
          ]
        }
      ]
    },
    {
      "cell_type": "markdown",
      "source": [
        "19. Muestra las claves o *keys* de *diccionario*"
      ],
      "metadata": {
        "id": "UuDoe-e-fEk_"
      }
    },
    {
      "cell_type": "code",
      "source": [
        "print(diccionario.keys())"
      ],
      "metadata": {
        "colab": {
          "base_uri": "https://localhost:8080/"
        },
        "id": "s7ZKvZ76okoK",
        "outputId": "d408dbe7-e158-4edc-d5c1-932f31bb9b43"
      },
      "execution_count": 37,
      "outputs": [
        {
          "output_type": "stream",
          "name": "stdout",
          "text": [
            "dict_keys(['a', 'b', 'c', 'd'])\n"
          ]
        }
      ]
    },
    {
      "cell_type": "markdown",
      "source": [
        "20. Muestra los valores o `values` de *diccionario*"
      ],
      "metadata": {
        "id": "xkePAwYjfS2Q"
      }
    },
    {
      "cell_type": "code",
      "source": [
        "print(diccionario.values())"
      ],
      "metadata": {
        "colab": {
          "base_uri": "https://localhost:8080/"
        },
        "id": "5x8dMNbto0vE",
        "outputId": "c2483a8c-ffe3-4b6e-add7-d38fc0692378"
      },
      "execution_count": 38,
      "outputs": [
        {
          "output_type": "stream",
          "name": "stdout",
          "text": [
            "dict_values([5, 7, 14, 14.0])\n"
          ]
        }
      ]
    }
  ]
}